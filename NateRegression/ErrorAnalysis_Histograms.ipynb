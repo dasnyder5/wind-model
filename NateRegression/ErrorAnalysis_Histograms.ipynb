{
 "cells": [
  {
   "cell_type": "code",
   "execution_count": 1,
   "id": "22cee065",
   "metadata": {},
   "outputs": [],
   "source": [
    "import numpy as np\n",
    "import math\n",
    "import matplotlib.pyplot as plt\n",
    "import pandas as pd\n",
    "import os"
   ]
  },
  {
   "cell_type": "code",
   "execution_count": 11,
   "id": "8b017db6",
   "metadata": {},
   "outputs": [],
   "source": [
    "NN = np.array([1, 2, 5])\n",
    "GEOM = ['tri', 'squ', 'pent', 'hex']\n",
    "DATA = np.zeros((287999,12))"
   ]
  },
  {
   "cell_type": "code",
   "execution_count": 13,
   "id": "b5950285",
   "metadata": {},
   "outputs": [],
   "source": [
    "for ii in range(3):\n",
    "    for jj in range(4):\n",
    "        loadStr = 'compVal_N'+str(NN[ii])+'/'+GEOM[jj]+'/ValErrorSort.csv'\n",
    "        DATA[:, 4*ii + jj] = np.loadtxt(loadStr, delimiter=',')"
   ]
  },
  {
   "cell_type": "code",
   "execution_count": 9,
   "id": "d80c870c",
   "metadata": {},
   "outputs": [
    {
     "name": "stdout",
     "output_type": "stream",
     "text": [
      "(287999,)\n"
     ]
    }
   ],
   "source": []
  },
  {
   "cell_type": "code",
   "execution_count": null,
   "id": "557e8a88",
   "metadata": {},
   "outputs": [],
   "source": []
  }
 ],
 "metadata": {
  "kernelspec": {
   "display_name": "Python 3",
   "language": "python",
   "name": "python3"
  },
  "language_info": {
   "codemirror_mode": {
    "name": "ipython",
    "version": 3
   },
   "file_extension": ".py",
   "mimetype": "text/x-python",
   "name": "python",
   "nbconvert_exporter": "python",
   "pygments_lexer": "ipython3",
   "version": "3.7.10"
  }
 },
 "nbformat": 4,
 "nbformat_minor": 5
}
