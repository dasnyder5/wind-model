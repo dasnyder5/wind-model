{
 "cells": [
  {
   "cell_type": "code",
   "execution_count": null,
   "metadata": {},
   "outputs": [],
   "source": [
    "import os\n",
    "import math\n",
    "from ttictoc import tic, toc\n",
    "import csv\n",
    "import seaborn as sns\n",
    "\n",
    "print(os.getcwd())"
   ]
  },
  {
   "cell_type": "code",
   "execution_count": null,
   "metadata": {},
   "outputs": [],
   "source": [
    "%run utils/dataset_tools.ipynb\n",
    "%run utils/network_tools.ipynb\n",
    "%run utils/training_tools.ipynb"
   ]
  },
  {
   "cell_type": "code",
   "execution_count": null,
   "metadata": {},
   "outputs": [],
   "source": [
    "hzArray = np.array((0, 5, 10, 15, 20, 25, 30, 35, 40))\n",
    "speedArray = np.array((0.00, 1.26363735, 1.58562983, 2.07066356, 2.571993, 3.18291372, 3.75322345, 4.33626595, 4.91413509))\n",
    "\n"
   ]
  },
  {
   "cell_type": "code",
   "execution_count": null,
   "metadata": {},
   "outputs": [],
   "source": [
    "model_hex = MagNet()\n",
    "opt_hex = torch.optim.Adam(model_hex.parameters(), lr=learning_rate)\n",
    "check_hex = torch.load('SavedModels/Velocity/N2_G5_Loocv4_best.tar')\n",
    "model_hex.load_state_dict(check_hex['model_state_dict'])\n",
    "opt_hex.load_state_dict(check_hex['optimizer_state_dict'])\n",
    "epoch_hex = check_hex['epoch']\n",
    "loss_hex = check_hex['loss']"
   ]
  },
  {
   "cell_type": "code",
   "execution_count": null,
   "metadata": {},
   "outputs": [],
   "source": [
    "model_hex.eval()\n",
    "print(model_hex)"
   ]
  },
  {
   "cell_type": "code",
   "execution_count": null,
   "metadata": {},
   "outputs": [],
   "source": [
    "geometryVal=5\n",
    "geomPath='pent/'\n",
    "N=2\n",
    "epochs0 = 5\n",
    "ll=4\n",
    "testPath0 = 'data_agg/test'\n",
    "loss_fn = nn.L1Loss()\n",
    "\n",
    "training_data, testing_data, epochs, trainPath, trainLabelPath, testPath, testLabelPath = makeMagDataset(geometryVal=geometryVal, geomPath=geomPath, N=N, testPath0=testPath0, epochs0=epochs0, loocv=ll)"
   ]
  },
  {
   "cell_type": "code",
   "execution_count": null,
   "metadata": {},
   "outputs": [],
   "source": [
    "train_dataloader = DataLoader(training_data, batch_size=1, shuffle=True)\n",
    "test_dataloader = DataLoader(testing_data, batch_size=1, shuffle=True)"
   ]
  },
  {
   "cell_type": "code",
   "execution_count": null,
   "metadata": {},
   "outputs": [],
   "source": [
    "_, Z_test = test_loop(test_dataloader, model_hex, 0, 5, loss_fn, lastLoop=True, writePath=None, loocv=None)\n",
    "_, Z_train = test_loop(train_dataloader, model_hex, 0, 5, loss_fn, lastLoop=True, writePath=None, loocv=None)"
   ]
  },
  {
   "cell_type": "code",
   "execution_count": null,
   "metadata": {},
   "outputs": [],
   "source": [
    "print(Z_test.shape)\n",
    "print(Z_train.shape)"
   ]
  },
  {
   "cell_type": "code",
   "execution_count": null,
   "metadata": {},
   "outputs": [],
   "source": [
    "agg_data = np.zeros((820510, 2))"
   ]
  },
  {
   "cell_type": "code",
   "execution_count": null,
   "metadata": {},
   "outputs": [],
   "source": [
    "agg_data[:90000,0] = Z_test[:,2]\n",
    "agg_data[:90000,1] = Z_test[:,3]\n",
    "agg_data[90000:720499,0] = Z_train[:,2]\n",
    "agg_data[90000:720499,1] = Z_train[:,3]\n",
    "\n",
    "for k in range(11):\n",
    "    agg_data[720499+k,:] = np.array((0.0, model_hex(torch.zeros(1,3))))"
   ]
  },
  {
   "cell_type": "code",
   "execution_count": null,
   "metadata": {},
   "outputs": [],
   "source": [
    "# Synthetic Data \n",
    "normArray = np.arange(1, 501)/200.00\n",
    "# print(normArray[:10])\n",
    "\n",
    "SynthVectors = np.random.rand(100000, 3)\n",
    "idxVal = 720510\n",
    "for k in range(0, 500):\n",
    "    mag = normArray[k]\n",
    "    for j in range(200):\n",
    "        inputData = -np.sort(-SynthVectors[k:k+1,:])\n",
    "        n = np.linalg.norm(inputData)\n",
    "        inputData = inputData*mag/n\n",
    "        v_pred = model_hex(torch.Tensor(inputData))\n",
    "        \n",
    "        agg_data[idxVal+200*k+j, :] = np.array((mag, v_pred))"
   ]
  },
  {
   "cell_type": "code",
   "execution_count": null,
   "metadata": {},
   "outputs": [],
   "source": [
    "agg_data_round = agg_data\n",
    "agg_data_round[:,0] = (np.round_(agg_data[:,0]*200.0)/200.0)"
   ]
  },
  {
   "cell_type": "code",
   "execution_count": null,
   "metadata": {},
   "outputs": [],
   "source": [
    "dfRoundPent = pd.DataFrame(data=agg_data_round,\n",
    "                      columns=('s_norm', 'v_pred')\n",
    "                     )"
   ]
  },
  {
   "cell_type": "code",
   "execution_count": null,
   "metadata": {},
   "outputs": [],
   "source": [
    "dfRoundPent.to_csv('PredictorDataRoundPent.csv')"
   ]
  },
  {
   "cell_type": "code",
   "execution_count": null,
   "metadata": {},
   "outputs": [],
   "source": [
    "plt.figure(figsize=(10, 7), dpi=300)\n",
    "titleFont=22\n",
    "axisFont=18\n",
    "legendFont=14\n",
    "\n",
    "# palettes ['#1dd332', '#f08119', '#201dd3']\n",
    "ax = sns.lineplot(x=\"s_norm\", y=\"v_pred\", palette=['#201dd3'], data=dfRoundPent, ci='sd')\n",
    "plt.title('Velocity Prediction (m/s) vs. Sensor Reading Norm', fontsize=titleFont)\n",
    "ax.set_xlabel('Norm of Sensor Reading', fontsize=axisFont)\n",
    "plt.xlim([0, 2.5])\n",
    "ax.set_ylabel('Predicted Velocity (m/s)', fontsize=axisFont)\n",
    "plt.grid(False)\n",
    "plt.savefig('VelPredictionCurvePent.png')\n",
    "plt.show()"
   ]
  },
  {
   "cell_type": "code",
   "execution_count": null,
   "metadata": {},
   "outputs": [],
   "source": [
    "plt.figure(figsize=(10, 7), dpi=300)\n",
    "plt.clf()\n",
    "titleFont=22\n",
    "axisFont=18\n",
    "legendFont=14\n",
    "ax = sns.histplot(x=\"s_norm\", stat='probability', palette=['#201dd3'], binwidth=0.075, element='step', fill=False, data=dfRound[:720000])\n",
    "\n",
    "plt.title('Histogram of Sensor Reading Norms', fontsize=titleFont)\n",
    "ax.set_xlabel('Sensor Reading Norm', fontsize=axisFont)\n",
    "plt.xlim([0, 2.5])\n",
    "ax.set_ylabel('Probability Mass', fontsize=axisFont)\n",
    "# ax.legend(fontsize=legendFont)\n",
    "plt.grid(False)\n",
    "'''\n",
    "plt.plot((0.225, 0.225), (0, 0.025), 'k', (0.30, 0.30), (0, 0.025), 'k')\n",
    "plt.plot((0.45, 0.45), (0, 0.025), 'r', (0.525, 0.525), (0, 0.025), 'r')\n",
    "plt.plot((0.6, 0.6), (0, 0.025), 'k', (0.675, 0.675), (0, 0.025), 'k')\n",
    "plt.plot((0.75, 0.75), (0, 0.025), 'r', (0.825, 0.825), (0, 0.025), 'r')\n",
    "plt.plot((0.9, 0.9), (0, 0.025), 'k', (1.050, 1.050), (0, 0.025), 'k')\n",
    "plt.plot((1.125, 1.125), (0, 0.025), 'r', (1.275, 1.275), (0, 0.025), 'r')\n",
    "plt.plot((1.500, 1.500), (0, 0.025), 'k', (1.650, 1.650), (0, 0.025), 'k')\n",
    "plt.plot((1.800, 1.800), (0, 0.025), 'r', (1.950, 1.950), (0, 0.025), 'r')\n",
    "plt.plot((2.100, 2.100), (0, 0.025), 'k', (2.250, 2.250), (0, 0.025), 'k')\n",
    "'''\n",
    "# plt.savefig('ErrorHist.png')\n",
    "plt.show()"
   ]
  },
  {
   "cell_type": "code",
   "execution_count": null,
   "metadata": {},
   "outputs": [],
   "source": [
    "print(dfRound[:400])"
   ]
  },
  {
   "cell_type": "code",
   "execution_count": null,
   "metadata": {},
   "outputs": [],
   "source": []
  }
 ],
 "metadata": {
  "kernelspec": {
   "display_name": "Python 3",
   "language": "python",
   "name": "python3"
  },
  "language_info": {
   "codemirror_mode": {
    "name": "ipython",
    "version": 3
   },
   "file_extension": ".py",
   "mimetype": "text/x-python",
   "name": "python",
   "nbconvert_exporter": "python",
   "pygments_lexer": "ipython3",
   "version": "3.7.6"
  }
 },
 "nbformat": 4,
 "nbformat_minor": 4
}
