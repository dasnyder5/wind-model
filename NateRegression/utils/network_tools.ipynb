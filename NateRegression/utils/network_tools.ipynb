{
 "cells": [
  {
   "cell_type": "code",
   "execution_count": null,
   "metadata": {},
   "outputs": [],
   "source": [
    "class NeuralNetwork(nn.Module):\n",
    "    '''\n",
    "    A general/generic Neural Network model class for use with Pytorch. \n",
    "    \n",
    "    TODO: include layer widths, types, and nonlinearities as inputs and dynamically allocate\n",
    "          --- this will allow for custom classes rather than the clunky \"if\" statement used here. \n",
    "    '''\n",
    "    def __init__(self):\n",
    "        super(NeuralNetwork, self).__init__()\n",
    "        self.flatten = nn.Flatten()\n",
    "        \n",
    "        \n",
    "    def forward(self, x):\n",
    "        pass"
   ]
  },
  {
   "cell_type": "code",
   "execution_count": null,
   "metadata": {},
   "outputs": [],
   "source": [
    "class CrosswireNet(NeuralNetwork):\n",
    "    '''\n",
    "    A general/generic Neural Network model class for use with Pytorch. \n",
    "    \n",
    "    TODO: include layer widths, types, and nonlinearities as inputs and dynamically allocate\n",
    "          --- this will allow for custom classes rather than the clunky \"if\" statement used here. \n",
    "    '''\n",
    "    def __init__(self):\n",
    "        super(CrosswireNet, self).__init__()\n",
    "        \n",
    "        self.linear_relu_stack = nn.Sequential(nn.Linear(3, 25),\n",
    "                                               nn.ReLU(),\n",
    "                                               nn.Linear(25, 15),\n",
    "                                               nn.ReLU(),\n",
    "                                               nn.Linear(15, 2),\n",
    "                                               )\n",
    "    def forward(self, x):\n",
    "        # Method to propagate input (reading) through the network to get a prediction. \n",
    "        # Terminology is clunky because this is adapted from a classification example, hence \n",
    "        # the use of 'logits' even though we are doing regression.\n",
    "        \n",
    "        # TODO -- tidy up variable names, usage, etc (see above)\n",
    "        x = self.flatten(x)\n",
    "        logits = self.linear_relu_stack(x)\n",
    "        return logits\n"
   ]
  },
  {
   "cell_type": "code",
   "execution_count": null,
   "metadata": {},
   "outputs": [],
   "source": [
    "class AngleNet(NeuralNetwork):\n",
    "    '''\n",
    "    A general/generic Neural Network model class for use with Pytorch. \n",
    "    \n",
    "    TODO: include layer widths, types, and nonlinearities as inputs and dynamically allocate\n",
    "          --- this will allow for custom classes rather than the clunky \"if\" statement used here. \n",
    "    '''\n",
    "    def __init__(self, geom=6, trigValue=1):\n",
    "        super(AngleNet, self).__init__()\n",
    "        \n",
    "        k1 = int(geom*8)\n",
    "        k2 = int(k1/2 + 5)\n",
    "        self.linear_relu_stack = nn.Sequential(nn.Linear(geom, k1),\n",
    "                                               nn.ReLU(),\n",
    "                                               nn.Linear(k1, k2),\n",
    "                                               nn.ReLU(),\n",
    "                                               nn.Linear(k2, trigValue),\n",
    "                                               )\n",
    "        \n",
    "    def forward(self, x):\n",
    "        # Method to propagate input (reading) through the network to get a prediction. \n",
    "        # Terminology is clunky because this is adapted from a classification example, hence \n",
    "        # the use of 'logits' even though we are doing regression.\n",
    "        \n",
    "        # TODO -- tidy up variable names, usage, etc (see above)\n",
    "        x = self.flatten(x)\n",
    "        logits = self.linear_relu_stack(x)\n",
    "        return logits"
   ]
  },
  {
   "cell_type": "code",
   "execution_count": null,
   "metadata": {},
   "outputs": [],
   "source": [
    "class MagNet(NeuralNetwork):\n",
    "    '''\n",
    "    A general/generic Neural Network model class for use with Pytorch. \n",
    "    \n",
    "    TODO: include layer widths, types, and nonlinearities as inputs and dynamically allocate\n",
    "          --- this will allow for custom classes rather than the clunky \"if\" statement used here. \n",
    "    '''\n",
    "    def __init__(self):\n",
    "        super(MagNet, self).__init__()\n",
    "\n",
    "        self.linear_relu_stack = nn.Sequential(nn.Linear(3, 6),\n",
    "                                               nn.Tanh(),\n",
    "                                               nn.Linear(6, 1),\n",
    "                                               )\n",
    "        \n",
    "    def forward(self, x):\n",
    "        # Method to propagate input (reading) through the network to get a prediction. \n",
    "        # Terminology is clunky because this is adapted from a classification example, hence \n",
    "        # the use of 'logits' even though we are doing regression.\n",
    "        \n",
    "        # TODO -- tidy up variable names, usage, etc (see above)\n",
    "        x = self.flatten(x)\n",
    "        logits = self.linear_relu_stack(x)\n",
    "        return logits"
   ]
  }
 ],
 "metadata": {
  "kernelspec": {
   "display_name": "Python 3",
   "language": "python",
   "name": "python3"
  },
  "language_info": {
   "codemirror_mode": {
    "name": "ipython",
    "version": 3
   },
   "file_extension": ".py",
   "mimetype": "text/x-python",
   "name": "python",
   "nbconvert_exporter": "python",
   "pygments_lexer": "ipython3",
   "version": "3.7.6"
  }
 },
 "nbformat": 4,
 "nbformat_minor": 4
}
