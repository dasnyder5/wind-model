{
 "cells": [
  {
   "cell_type": "code",
   "execution_count": 1,
   "metadata": {},
   "outputs": [],
   "source": [
    "%run utils/dataset_tools.ipynb\n",
    "%run utils/network_tools.ipynb\n",
    "%run utils/training_tools.ipynb"
   ]
  },
  {
   "cell_type": "code",
   "execution_count": 2,
   "metadata": {},
   "outputs": [
    {
     "data": {
      "text/plain": [
       "\"\\nmodel = TheModelClass(*args, **kwargs)\\noptimizer = TheOptimizerClass(*args, **kwargs)\\n\\ncheckpoint = torch.load(PATH)\\nmodel.load_state_dict(checkpoint['model_state_dict'])\\noptimizer.load_state_dict(checkpoint['optimizer_state_dict'])\\nepoch = checkpoint['epoch']\\nloss = checkpoint['loss']\\n\\nmodel.eval()\\n# - or -\\nmodel.train()\\n\""
      ]
     },
     "execution_count": 2,
     "metadata": {},
     "output_type": "execute_result"
    }
   ],
   "source": [
    "# Notes for saving and loading Pytorch Models, from \n",
    "# https://pytorch.org/tutorials/beginner/saving_loading_models.html\n",
    "'''\n",
    "model = TheModelClass(*args, **kwargs)\n",
    "optimizer = TheOptimizerClass(*args, **kwargs)\n",
    "\n",
    "checkpoint = torch.load(PATH)\n",
    "model.load_state_dict(checkpoint['model_state_dict'])\n",
    "optimizer.load_state_dict(checkpoint['optimizer_state_dict'])\n",
    "epoch = checkpoint['epoch']\n",
    "loss = checkpoint['loss']\n",
    "\n",
    "model.eval()\n",
    "# - or -\n",
    "model.train()\n",
    "'''\n",
    "# Useful reference for saving off weights, etc, that we might need and/or want"
   ]
  },
  {
   "cell_type": "code",
   "execution_count": 3,
   "metadata": {},
   "outputs": [],
   "source": [
    "model_pent = MagNet()\n",
    "opt_pent = torch.optim.Adam(model_pent.parameters(), lr=learning_rate)\n",
    "check_pent = torch.load('SavedModels/Velocity/N2_G5_Loocv4_best.tar')\n",
    "model_pent.load_state_dict(check_pent['model_state_dict'])\n",
    "opt_pent.load_state_dict(check_pent['optimizer_state_dict'])\n",
    "epoch_pent = check_pent['epoch']\n",
    "loss_pent = check_pent['loss']\n",
    "\n",
    "model_hex = MagNet()\n",
    "opt_hex = torch.optim.Adam(model_hex.parameters(), lr=learning_rate)\n",
    "check_hex = torch.load('SavedModels/Velocity/N2_G6_Loocv4_best.tar')\n",
    "model_hex.load_state_dict(check_hex['model_state_dict'])\n",
    "opt_hex.load_state_dict(check_hex['optimizer_state_dict'])\n",
    "epoch_hex = check_hex['epoch']\n",
    "loss_hex = check_hex['loss']"
   ]
  },
  {
   "cell_type": "code",
   "execution_count": 4,
   "metadata": {},
   "outputs": [
    {
     "name": "stdout",
     "output_type": "stream",
     "text": [
      "MagNet(\n",
      "  (flatten): Flatten(start_dim=1, end_dim=-1)\n",
      "  (linear_relu_stack): Sequential(\n",
      "    (0): Linear(in_features=3, out_features=6, bias=True)\n",
      "    (1): Tanh()\n",
      "    (2): Linear(in_features=6, out_features=1, bias=True)\n",
      "  )\n",
      ")\n",
      "\n",
      "MagNet(\n",
      "  (flatten): Flatten(start_dim=1, end_dim=-1)\n",
      "  (linear_relu_stack): Sequential(\n",
      "    (0): Linear(in_features=3, out_features=6, bias=True)\n",
      "    (1): Tanh()\n",
      "    (2): Linear(in_features=6, out_features=1, bias=True)\n",
      "  )\n",
      ")\n"
     ]
    }
   ],
   "source": [
    "model_pent.eval()\n",
    "print(model_pent)\n",
    "\n",
    "print()\n",
    "\n",
    "model_hex.eval()\n",
    "print(model_hex)"
   ]
  },
  {
   "cell_type": "code",
   "execution_count": 5,
   "metadata": {},
   "outputs": [
    {
     "name": "stdout",
     "output_type": "stream",
     "text": [
      "tensor([[0.4633]], grad_fn=<AddmmBackward0>)\n",
      "\n",
      "tensor([[0.5395]], grad_fn=<AddmmBackward0>)\n"
     ]
    }
   ],
   "source": [
    "print(model_pent(torch.zeros(1, 3)))\n",
    "print()\n",
    "print(model_pent(0.01*torch.ones(1, 3)))"
   ]
  },
  {
   "cell_type": "code",
   "execution_count": 6,
   "metadata": {},
   "outputs": [
    {
     "name": "stdout",
     "output_type": "stream",
     "text": [
      "tensor([[-0.1452]], grad_fn=<AddmmBackward0>)\n",
      "\n",
      "tensor([[-0.0139]], grad_fn=<AddmmBackward0>)\n"
     ]
    }
   ],
   "source": [
    "print(model_hex(torch.zeros(1, 3)))\n",
    "print()\n",
    "print(model_hex(0.01*torch.ones(1, 3)))"
   ]
  },
  {
   "cell_type": "code",
   "execution_count": null,
   "metadata": {},
   "outputs": [],
   "source": []
  }
 ],
 "metadata": {
  "celltoolbar": "Raw Cell Format",
  "kernelspec": {
   "display_name": "Python 3",
   "language": "python",
   "name": "python3"
  },
  "language_info": {
   "codemirror_mode": {
    "name": "ipython",
    "version": 3
   },
   "file_extension": ".py",
   "mimetype": "text/x-python",
   "name": "python",
   "nbconvert_exporter": "python",
   "pygments_lexer": "ipython3",
   "version": "3.7.6"
  }
 },
 "nbformat": 4,
 "nbformat_minor": 4
}
